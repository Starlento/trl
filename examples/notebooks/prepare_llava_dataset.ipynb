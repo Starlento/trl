{
 "cells": [
  {
   "cell_type": "code",
   "execution_count": 2,
   "metadata": {},
   "outputs": [],
   "source": [
    "import json\n",
    "from tqdm import tqdm\n",
    "from prompts import system_prompt\n",
    "import datasets\n",
    "import os\n",
    "from PIL import Image"
   ]
  },
  {
   "cell_type": "code",
   "execution_count": 3,
   "metadata": {},
   "outputs": [],
   "source": [
    "str_template = \"\"\"1. Basic Information\n",
    "```json\n",
    "{}\n",
    "```\n",
    "\n",
    "2. Critical Objects\n",
    "```json\n",
    "{}\n",
    "```\n",
    "\n",
    "3. Decision Analysis\n",
    "{}\n",
    "\n",
    "4. Meta Action\n",
    "{}\"\"\""
   ]
  },
  {
   "cell_type": "code",
   "execution_count": 4,
   "metadata": {},
   "outputs": [
    {
     "name": "stderr",
     "output_type": "stream",
     "text": [
      "100%|██████████| 57/57 [00:03<00:00, 17.06it/s]\n"
     ]
    }
   ],
   "source": [
    "results = []\n",
    "json_file = \"../../downloads/datasets/raw_annotations/positive/bus-only_lane/bus-only_lane_annotations_v5.json\"\n",
    "raw_data = json.load(open(json_file))\n",
    "for current_data in tqdm(raw_data):\n",
    "    part1 = {\n",
    "        \"scene_summary\": current_data[\"scene_summary\"],\n",
    "        \"weather\": current_data[\"weather\"],\n",
    "        \"time\": current_data[\"time\"],\n",
    "        \"road_environment\": current_data[\"road_environment\"],\n",
    "        \"ego_lane_position\": current_data[\"ego_lane_position\"],\n",
    "    }\n",
    "    part2 = [\n",
    "        {\n",
    "            \"object_name\": ann[\"static_attributes\"],\n",
    "            \"2d_bbox\": ann[\"2d_bbox\"],\n",
    "            \"description\": ann[\"influence\"],\n",
    "        }\n",
    "        for ann in current_data[\"annotations\"][0][\"key_object_infos\"]\n",
    "    ]\n",
    "    for x in part2:\n",
    "        for i, y in enumerate(x[\"2d_bbox\"]):\n",
    "            if i % 2 == 0:\n",
    "                x[\"2d_bbox\"][i] = int(x[\"2d_bbox\"][i] / 3840 * 1000)\n",
    "            else:\n",
    "                x[\"2d_bbox\"][i] = int(x[\"2d_bbox\"][i] / 2160 * 1000)\n",
    "    part3 = current_data[\"decision_description\"]\n",
    "    part4 = current_data[\"meta_action\"][0]\n",
    "    response = str_template.format(part1, part2, part3, part4)\n",
    "    image_path = os.path.join(\n",
    "        \"../../downloads/datasets/raw_annotations/positive/bus-only_lane/images\",\n",
    "        current_data[\"annotations\"][0][\"image_id\"],\n",
    "    )\n",
    "    image = Image.open(image_path).convert(\"RGB\").resize((448 * 2, 448))\n",
    "    # save it to the output folder\n",
    "    os.makedirs(\"images\", exist_ok=True)\n",
    "    image.save(os.path.join(\"images\", current_data[\"annotations\"][0][\"image_id\"]))\n",
    "    messages = [\n",
    "        {\"role\": \"system\", \"content\": [{\"text\": system_prompt, \"type\": \"text\"}]},\n",
    "        {\"role\": \"user\", \"content\": [{\"text\": None, \"type\": \"image\"}]},\n",
    "        {\"role\": \"assistant\", \"content\": [{\"text\": response, \"type\": \"text\"}]},\n",
    "    ]\n",
    "    results.append({\"images\": [current_data[\"annotations\"][0][\"image_id\"]], \"messages\": messages})"
   ]
  },
  {
   "cell_type": "code",
   "execution_count": 5,
   "metadata": {},
   "outputs": [],
   "source": [
    "results = {\"train\": results}\n",
    "d = datasets.Dataset.from_dict(results)"
   ]
  },
  {
   "cell_type": "code",
   "execution_count": 7,
   "metadata": {},
   "outputs": [
    {
     "data": {
      "text/plain": [
       "{'images': ['20230811083159.060417_FrontCam02.jpeg'],\n",
       " 'messages': [{'content': [{'text': 'You are a smart assistant for the autonomous driving car. Your task is to analyze the some needed information based on the user given photo taken from the camera on the ego car. The user will only provide you image without further information. You should read carefully to get the idea what to reply in this system prompt.\\n\\n# Task Requirement\\n1. Basic Information\\n- Scene Summary: Provide a brief summary of the scene in the photo.\\n- Weather: weather condition of the environment in the photo. It should be one of the following: sunny, cloudy, rainy, snowy, foggy.\\n- Time: time of the day in the photo. It should be described in string. For example: morning, afternoon, evening, night.\\n- Road Environment: environment of the road in the photo. It should be one of the following: urban, rural, highway.\\n- Ego Lane Position: You should describe the lane position of the ego car. Consider all the lanes available to provide a relevant position.\\n\\n2. Critical Objects\\n\\nThe critical objects are the objects which can affect the decision making of the ego car. Here is the examples of critical objects:\\n\\n- Bus Only Sign\\n- Luxury Car\\n- Child\\n...\\n\\nAnd the critical object must have a key \"object_name\" and \"2d_bbox\". And you should provide detailed and useful information in the \"description\" key.\\n\\nThe object_name can be freestyle and the 2d_bbox should be in the format of [x1, y1, x2, y2] where (x1, y1) is the top-left corner and (x2, y2) is the bottom-right corner of the bounding box. And x1, y1, x2, y2 should be integers in the range from 0 to 1000 which represents the percentage of the width and height of the image.\\n\\n3. Decision Analysis\\n- Analyze the decision the ego car should make based on the critical objects in the photo.\\n\\n4. Meta Action\\n- Provide the action the ego car should take based on the decision analysis.\\n\\n# Response Example (You must reply in the following template)\\n1. Basic Information\\n```json\\n{\\n    \"scene_summary\": \"\",\\n    \"weather\": \"\",\\n    \"time\": \"\",\\n    \"road_environment\": \"\",\\n    \"ego_lane_position\": \"\"\\n}\\n```\\n\\n2. Critical Objects\\n```json\\n{\\n    \"object_name\": \"\",\\n    \"2d_bbox\": []\\n    \"description\": \"\",\\n\\n}\\n```\\n\\n3. Decision Analysis\\nYou description here.\\n\\n4. Meta Action\\nYour conclude meta action here.\\n\\n# Note\\n1. Ego car means the car in which the camera is installed.\\n2. Try to omit the information which is not relevant to the decision making of the ego car.\\n3. Try to provide useful, concise information of the critical objects which can be used by the ego car to make decisions.\\n4. You must reply in the template provided in the response example with all 4 parts of answer.',\n",
       "     'type': 'text'}],\n",
       "   'role': 'system'},\n",
       "  {'content': [{'text': None, 'type': 'image'}], 'role': 'user'},\n",
       "  {'content': [{'text': \"1. Basic Information\\n```json\\n{'scene_summary': 'The ego vehicle is moving straight ahead and on a designated bus-only lane, there is a bus-only sign in front of the right It indicates that from 7:00 to 9:00 and from 17:00 to 19:00 are designated bus lanes', 'weather': 'sunny', 'time': 'daytime', 'road_environment': 'urban', 'ego_lane_position': ['second right most lane']}\\n```\\n\\n2. Critical Objects\\n```json\\n[{'object_name': 'bus-only sign', '2d_bbox': [577, 136, 639, 254], 'description': 'No entry on the bus lane from 7:00 to 9:00 and from 17:00 to 19:00'}]\\n```\\n\\n3. Decision Analysis\\ngo straight slowly because there's someone ahead\\n\\n4. Meta Action\\n['go straight slowly']\",\n",
       "     'type': 'text'}],\n",
       "   'role': 'assistant'}]}"
      ]
     },
     "execution_count": 7,
     "metadata": {},
     "output_type": "execute_result"
    }
   ],
   "source": [
    "d[\"train\"][0]"
   ]
  },
  {
   "cell_type": "code",
   "execution_count": null,
   "metadata": {},
   "outputs": [],
   "source": []
  }
 ],
 "metadata": {
  "kernelspec": {
   "display_name": "default",
   "language": "python",
   "name": "python3"
  },
  "language_info": {
   "codemirror_mode": {
    "name": "ipython",
    "version": 3
   },
   "file_extension": ".py",
   "mimetype": "text/x-python",
   "name": "python",
   "nbconvert_exporter": "python",
   "pygments_lexer": "ipython3",
   "version": "3.11.9"
  }
 },
 "nbformat": 4,
 "nbformat_minor": 2
}
