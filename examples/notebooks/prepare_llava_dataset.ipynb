{
 "cells": [
  {
   "cell_type": "code",
   "execution_count": 52,
   "metadata": {},
   "outputs": [],
   "source": [
    "import json\n",
    "from tqdm import tqdm\n",
    "from prompts import system_prompt\n",
    "import datasets\n",
    "import os\n",
    "from PIL import Image"
   ]
  },
  {
   "cell_type": "code",
   "execution_count": 48,
   "metadata": {},
   "outputs": [],
   "source": [
    "str_template = \"\"\"1. Basic Information\n",
    "```json\n",
    "{}\n",
    "```\n",
    "\n",
    "2. Critical Objects\n",
    "```json\n",
    "{}\n",
    "```\n",
    "\n",
    "3. Decision Analysis\n",
    "{}\n",
    "\n",
    "4. Meta Action\n",
    "{}\"\"\""
   ]
  },
  {
   "cell_type": "code",
   "execution_count": 50,
   "metadata": {},
   "outputs": [
    {
     "name": "stderr",
     "output_type": "stream",
     "text": [
      "100%|██████████| 57/57 [00:03<00:00, 17.79it/s]\n"
     ]
    }
   ],
   "source": [
    "results = []\n",
    "json_file = \"../../downloads/raw_annotations/positive/bus-only_lane/bus-only_lane_annotations_v5.json\"\n",
    "raw_data = json.load(open(json_file))\n",
    "for current_data in tqdm(raw_data):\n",
    "    part1 = {\n",
    "        \"scene_summary\": current_data[\"scene_summary\"],\n",
    "        \"weather\": current_data[\"weather\"],\n",
    "        \"time\": current_data[\"time\"],\n",
    "        \"road_environment\": current_data[\"road_environment\"],\n",
    "        \"ego_lane_position\": current_data[\"ego_lane_position\"],\n",
    "    }\n",
    "    part2 = [\n",
    "        {\n",
    "            \"object_name\": ann[\"static_attributes\"],\n",
    "            \"2d_bbox\": ann[\"2d_bbox\"],\n",
    "            \"description\": ann[\"influence\"],\n",
    "        }\n",
    "        for ann in current_data[\"annotations\"][0][\"key_object_infos\"]\n",
    "    ]\n",
    "    for x in part2:\n",
    "        for i, y in enumerate(x[\"2d_bbox\"]):\n",
    "            if i % 2 == 0:\n",
    "                x[\"2d_bbox\"][i] = int(x[\"2d_bbox\"][i] / 3840 * 1000)\n",
    "            else:\n",
    "                x[\"2d_bbox\"][i] = int(x[\"2d_bbox\"][i] / 2160 * 1000)\n",
    "    part3 = current_data[\"decision_description\"]\n",
    "    part4 = current_data[\"meta_action\"]\n",
    "    response = str_template.format(part1, part2, part3, part4)\n",
    "    image_path = os.path.join(\n",
    "        \"../../downloads/raw_annotations/positive/bus-only_lane/images\",\n",
    "        current_data[\"annotations\"][0][\"image_id\"],\n",
    "    )\n",
    "    images = [Image.open(image_path).convert(\"RGB\").resize((448 * 2, 448))]\n",
    "    messages = [\n",
    "        {\"role\": \"system\", \"content\": [{\"text\": system_prompt, \"type\": \"text\"}]},\n",
    "        {\"role\": \"user\", \"content\": [{\"text\": None, \"type\": \"image\"}]},\n",
    "        {\"role\": \"assistant\", \"content\": [{\"text\": response, \"type\": \"text\"}]},\n",
    "    ]\n",
    "    results.append({\"images\": images, \"messages\": messages})"
   ]
  },
  {
   "cell_type": "code",
   "execution_count": 53,
   "metadata": {},
   "outputs": [],
   "source": [
    "d = datasets.Dataset.from_list(results)"
   ]
  },
  {
   "cell_type": "code",
   "execution_count": 55,
   "metadata": {},
   "outputs": [
    {
     "data": {
      "application/vnd.jupyter.widget-view+json": {
       "model_id": "218c74edb4c24801ae4ea856ed07d376",
       "version_major": 2,
       "version_minor": 0
      },
      "text/plain": [
       "Saving the dataset (0/1 shards):   0%|          | 0/57 [00:00<?, ? examples/s]"
      ]
     },
     "metadata": {},
     "output_type": "display_data"
    }
   ],
   "source": [
    "d.save_to_disk(\"bus_only_sign\")"
   ]
  },
  {
   "cell_type": "code",
   "execution_count": null,
   "metadata": {},
   "outputs": [],
   "source": []
  }
 ],
 "metadata": {
  "kernelspec": {
   "display_name": "default",
   "language": "python",
   "name": "python3"
  },
  "language_info": {
   "codemirror_mode": {
    "name": "ipython",
    "version": 3
   },
   "file_extension": ".py",
   "mimetype": "text/x-python",
   "name": "python",
   "nbconvert_exporter": "python",
   "pygments_lexer": "ipython3",
   "version": "3.11.9"
  }
 },
 "nbformat": 4,
 "nbformat_minor": 2
}
